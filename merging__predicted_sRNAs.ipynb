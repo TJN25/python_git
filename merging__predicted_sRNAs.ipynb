{
 "cells": [
  {
   "cell_type": "code",
   "execution_count": 239,
   "metadata": {},
   "outputs": [
    {
     "name": "stdout",
     "output_type": "stream",
     "text": [
      "3.6.8 |Anaconda, Inc.| (default, Dec 29 2018, 19:04:46) \n",
      "[GCC 4.2.1 Compatible Clang 4.0.1 (tags/RELEASE_401/final)]\n",
      "/Users/thomasnicholson/anaconda3/bin/python\n"
     ]
    }
   ],
   "source": [
    "import sys\n",
    "from Bio import SeqIO\n",
    "import pandas as pd\n",
    "import seaborn as sns\n",
    "import matplotlib as plt\n",
    "import comparativesrna as srna\n",
    "import json\n",
    "\n",
    "run_all = False\n",
    "\n",
    "print (sys.version)\n",
    "print(sys.executable)"
   ]
  },
  {
   "cell_type": "code",
   "execution_count": 187,
   "metadata": {},
   "outputs": [
    {
     "data": {
      "text/html": [
       "<div>\n",
       "<style scoped>\n",
       "    .dataframe tbody tr th:only-of-type {\n",
       "        vertical-align: middle;\n",
       "    }\n",
       "\n",
       "    .dataframe tbody tr th {\n",
       "        vertical-align: top;\n",
       "    }\n",
       "\n",
       "    .dataframe thead th {\n",
       "        text-align: right;\n",
       "    }\n",
       "</style>\n",
       "<table border=\"1\" class=\"dataframe\">\n",
       "  <thead>\n",
       "    <tr style=\"text-align: right;\">\n",
       "      <th></th>\n",
       "      <th>query_id</th>\n",
       "      <th>target_contig</th>\n",
       "      <th>target_start</th>\n",
       "      <th>target_end</th>\n",
       "    </tr>\n",
       "  </thead>\n",
       "  <tbody>\n",
       "    <tr>\n",
       "      <td>102257</td>\n",
       "      <td>GCA_000283715.1_608</td>\n",
       "      <td>NC_016824.1</td>\n",
       "      <td>1</td>\n",
       "      <td>502</td>\n",
       "    </tr>\n",
       "    <tr>\n",
       "      <td>97980</td>\n",
       "      <td>GCA_000281215.1_63</td>\n",
       "      <td>NC_004578.1</td>\n",
       "      <td>1</td>\n",
       "      <td>169</td>\n",
       "    </tr>\n",
       "    <tr>\n",
       "      <td>143061</td>\n",
       "      <td>GCA_002208745.1_77</td>\n",
       "      <td>NC_004578.1</td>\n",
       "      <td>1</td>\n",
       "      <td>196</td>\n",
       "    </tr>\n",
       "    <tr>\n",
       "      <td>18031</td>\n",
       "      <td>GCA_000017745.1_1104</td>\n",
       "      <td>NZ_CP014273.1</td>\n",
       "      <td>1</td>\n",
       "      <td>88</td>\n",
       "    </tr>\n",
       "    <tr>\n",
       "      <td>49730</td>\n",
       "      <td>GCA_000017765.1_1</td>\n",
       "      <td>NC_004741.1</td>\n",
       "      <td>2</td>\n",
       "      <td>139</td>\n",
       "    </tr>\n",
       "    <tr>\n",
       "      <td>...</td>\n",
       "      <td>...</td>\n",
       "      <td>...</td>\n",
       "      <td>...</td>\n",
       "      <td>...</td>\n",
       "    </tr>\n",
       "    <tr>\n",
       "      <td>237016</td>\n",
       "      <td>GCA_900243355.1_880</td>\n",
       "      <td>NC_004129.6</td>\n",
       "      <td>7072550</td>\n",
       "      <td>7072638</td>\n",
       "    </tr>\n",
       "    <tr>\n",
       "      <td>237049</td>\n",
       "      <td>GCA_900243355.1_881</td>\n",
       "      <td>NC_004129.6</td>\n",
       "      <td>7073958</td>\n",
       "      <td>7074088</td>\n",
       "    </tr>\n",
       "    <tr>\n",
       "      <td>10609</td>\n",
       "      <td>GCA_000007565.2_2</td>\n",
       "      <td>NC_004129.6</td>\n",
       "      <td>7074572</td>\n",
       "      <td>7074786</td>\n",
       "    </tr>\n",
       "    <tr>\n",
       "      <td>97979</td>\n",
       "      <td>GCA_000281215.1_63</td>\n",
       "      <td>NC_004129.6</td>\n",
       "      <td>7074629</td>\n",
       "      <td>7074825</td>\n",
       "    </tr>\n",
       "    <tr>\n",
       "      <td>143060</td>\n",
       "      <td>GCA_002208745.1_77</td>\n",
       "      <td>NC_004129.6</td>\n",
       "      <td>7074636</td>\n",
       "      <td>7074859</td>\n",
       "    </tr>\n",
       "  </tbody>\n",
       "</table>\n",
       "<p>237090 rows × 4 columns</p>\n",
       "</div>"
      ],
      "text/plain": [
       "                    query_id  target_contig  target_start  target_end\n",
       "102257   GCA_000283715.1_608    NC_016824.1             1         502\n",
       "97980     GCA_000281215.1_63    NC_004578.1             1         169\n",
       "143061    GCA_002208745.1_77    NC_004578.1             1         196\n",
       "18031   GCA_000017745.1_1104  NZ_CP014273.1             1          88\n",
       "49730      GCA_000017765.1_1    NC_004741.1             2         139\n",
       "...                      ...            ...           ...         ...\n",
       "237016   GCA_900243355.1_880    NC_004129.6       7072550     7072638\n",
       "237049   GCA_900243355.1_881    NC_004129.6       7073958     7074088\n",
       "10609      GCA_000007565.2_2    NC_004129.6       7074572     7074786\n",
       "97979     GCA_000281215.1_63    NC_004129.6       7074629     7074825\n",
       "143060    GCA_002208745.1_77    NC_004129.6       7074636     7074859\n",
       "\n",
       "[237090 rows x 4 columns]"
      ]
     },
     "metadata": {},
     "output_type": "display_data"
    }
   ],
   "source": [
    "alignment_file_counts = pd.read_csv(\"/Users/thomasnicholson/phd/RNASeq/srna_seqs/version_1/predicted/original_stats_all.txt\", \n",
    "                                    header=None, delim_whitespace=True, names=list('abcdef'))\n",
    "alignment_file_counts = alignment_file_counts.loc[alignment_file_counts['a'] == 'Number_of_sequences:']\n",
    "alignment_file_counts = alignment_file_counts[['b', 'c']]\n",
    "alignment_file_counts.columns = ['count', 'id']\n",
    "alignment_file_counts['id'] = alignment_file_counts['id'].str.replace('.stk', '')\n",
    "alignment_file_counts.set_index('id', inplace=True)\n",
    "target_counts = alignment_file_counts.to_dict()\n",
    "\n",
    "alignDat = pd.read_csv(\"/Users/thomasnicholson/phd/RNASeq/srna_seqs/version_1/predicted/predicted_genomic_sequence_matches.txt\", header=None, delim_whitespace=True)\n",
    "alignDat = alignDat.iloc[:,[1,3]]\n",
    "alignDat.columns = [\"details\", \"query_id\"]\n",
    "alignDat[[\"target_contig\", \"coord\"]] = alignDat.details.str.split(\"/\", expand = True)\n",
    "alignDat[[\"target_start\", \"target_end\"]] = alignDat.coord.str.split(\"-\", expand = True)\n",
    "alignDat = alignDat[[\"query_id\", \"target_contig\", \"target_start\", \"target_end\"]]\n",
    "alignDat[\"target_start\"] = alignDat[\"target_start\"].astype(str).astype(int)\n",
    "alignDat['target_start'].dtypes\n",
    "alignDat[\"target_end\"] = alignDat[\"target_end\"].astype(str).astype(int)\n",
    "alignDat['target_end'].dtypes\n",
    "alignDat = alignDat.sort_values(by=['target_start'])\n",
    "display(alignDat)"
   ]
  },
  {
   "cell_type": "code",
   "execution_count": 188,
   "metadata": {},
   "outputs": [],
   "source": [
    "target_contigs = alignDat.target_contig.unique()\n",
    "query_ids = alignDat.query_id.unique()"
   ]
  },
  {
   "cell_type": "code",
   "execution_count": 200,
   "metadata": {},
   "outputs": [],
   "source": [
    "if run_all == True:\n",
    "    overlapping_ids = []\n",
    "    lengths = []\n",
    "    start_val = 0\n",
    "    end_val = 0\n",
    "    overlaps = []\n",
    "    for contig in target_contigs:\n",
    "        subsetDat =  alignDat.loc[alignDat['target_contig'] == contig]\n",
    "        overlaps = srna.get_overlap_vals(subsetDat, overlaps)\n",
    "    df = pd.DataFrame(data = overlaps)\n",
    "    df.to_csv('/Users/thomasnicholson/phd/RNASeq/srna_seqs/version_1/predicted/overlaps_data.csv', index=False)\n",
    "    else:\n",
    "        overlaps = pd.read_csv(\"/Users/thomasnicholson/phd/RNASeq/srna_seqs/version_1/predicted/overlaps_data.csv\", header=None, delim_whitespace=True)\n"
   ]
  },
  {
   "cell_type": "code",
   "execution_count": 207,
   "metadata": {},
   "outputs": [
    {
     "data": {
      "text/plain": [
       "[1.0,\n",
       " 0.9047619047619048,\n",
       " 0.8988095238095238,\n",
       " 1.0,\n",
       " 1.0,\n",
       " 1.0,\n",
       " 0.239247311827957,\n",
       " 1.0,\n",
       " 1.0,\n",
       " 1.0]"
      ]
     },
     "execution_count": 207,
     "metadata": {},
     "output_type": "execute_result"
    }
   ],
   "source": [
    "overlaps[:10]"
   ]
  },
  {
   "cell_type": "code",
   "execution_count": 228,
   "metadata": {},
   "outputs": [
    {
     "data": {
      "image/png": "[encoded data removed]",
      "text/plain": [
       "<Figure size 360x360 with 1 Axes>"
      ]
     },
     "metadata": {
      "needs_background": "light"
     },
     "output_type": "display_data"
    },
    {
     "data": {
      "text/plain": [
       "<Figure size 5760x5760 with 0 Axes>"
      ]
     },
     "metadata": {},
     "output_type": "display_data"
    }
   ],
   "source": [
    "import matplotlib as plt\n",
    "from matplotlib.pyplot import figure\n",
    "fig = sns.displot(overlaps, kde=True)\n",
    "figure(figsize = (80,80))\n",
    "fig.savefig(\"/Users/thomasnicholson/phd/RNASeq/figures/displot.svg\", dpi=100)"
   ]
  },
  {
   "cell_type": "code",
   "execution_count": 246,
   "metadata": {},
   "outputs": [],
   "source": [
    "if run_all == True:\n",
    "    d = {}\n",
    "    for contig in target_contigs:\n",
    "        print(contig)\n",
    "        subsetDat =  alignDat.loc[alignDat['target_contig'] == contig]\n",
    "        overlap_list = srna.get_overlap_list(subsetDat = subsetDat)\n",
    "        d = srna.get_overlap_count(overlap_list = overlap_list, d = d)\n",
    "        json_data = json.dumps(d)\n",
    "        file = open('/Users/thomasnicholson/phd/RNASeq/python_files/dict.json', 'w')\n",
    "        file.write(json_data)\n",
    "        file.close()\n",
    "else:\n",
    "    with open('/Users/thomasnicholson/phd/RNASeq/python_files/dict.json', 'r') as read_file:\n",
    "        d = json.load(read_file)"
   ]
  },
  {
   "cell_type": "code",
   "execution_count": 85,
   "metadata": {},
   "outputs": [],
   "source": [
    "if run_all == True:\n",
    "    query_matches = {}\n",
    "    query_counts = {}\n",
    "    overlap_percentages = []\n",
    "    threshold = 0\n",
    "    for i in range(0, len(query_ids) -1):\n",
    "        for j in range(i + 1, len(query_ids)):\n",
    "            ids =[query_ids[i], query_ids[j]]\n",
    "            ids.sort()\n",
    "            current_id = \"_\".join(ids)\n",
    "            count = min([target_counts['count'][query_ids[i]], target_counts['count'][query_ids[j]]])\n",
    "            count = int(count)\n",
    "            if current_id in d:\n",
    "                if d[current_id]/count < 1 and d[current_id]/count > threshold:\n",
    "                    overlap_percentages.append(d[current_id]/count)\n",
    "                else:\n",
    "                    overlap_percentages.append(1)\n",
    "                if d[current_id]/count > threshold:\n",
    "                    query_matches[current_id] = d[current_id]/count\n",
    "                    query_counts[current_id] = [d[current_id]/count, count, d[current_id]]\n",
    "    json_query_matches = json.dumps(query_matches)\n",
    "    file = open('/Users/thomasnicholson/phd/RNASeq/python_files/query_matches.json', 'w')\n",
    "    file.write(json_query_matches)\n",
    "    file.close()\n",
    "    json_query_counts = json.dumps(query_counts)\n",
    "    file = open('/Users/thomasnicholson/phd/RNASeq/python_files/query_counts.json', 'w')\n",
    "    file.write(json_query_counts)\n",
    "    file.close()\n",
    "else:\n",
    "    with open('/Users/thomasnicholson/phd/RNASeq/python_files/query_counts.json', 'r') as read_file:\n",
    "        query_counts = json.load(read_file)\n"
   ]
  },
  {
   "cell_type": "code",
   "execution_count": 259,
   "metadata": {},
   "outputs": [],
   "source": [
    "if run_all == True:\n",
    "    all_overlaps = {}\n",
    "    ids_checked = []\n",
    "    for key, value in d.items():\n",
    "        ids = key.split(\"_\")\n",
    "        id1 = \"_\".join(ids[:3])\n",
    "        id2 = \"_\".join(ids[3:])\n",
    "        all_overlaps, ids_checked, make_new, counter = srna.unique_set_of_overlaps(all_overlaps, ids_checked, id1 = id1, id2 = id2)\n",
    "        all_overlaps, ids_checked, make_new, counter = srna.unique_set_of_overlaps(all_overlaps, ids_checked, id1 = id2, id2 = id1)\n",
    "        if make_new == True:\n",
    "            all_overlaps[id1] = [id2]\n",
    "    json_all_overlaps = json.dumps(all_overlaps)\n",
    "    file = open('/Users/thomasnicholson/phd/RNASeq/python_files/all_overlaps.json', 'w')\n",
    "    file.write(json_all_overlaps)\n",
    "    file.close()\n",
    "else:\n",
    "    with open('/Users/thomasnicholson/phd/RNASeq/python_files/all_overlaps.json', 'r') as read_file:\n",
    "        all_overlaps = json.load(read_file)    "
   ]
  },
  {
   "cell_type": "code",
   "execution_count": 112,
   "metadata": {},
   "outputs": [
    {
     "name": "stdout",
     "output_type": "stream",
     "text": [
      "GCA_000281215.1_63 ['GCA_002208745.1_78', 'GCA_000007565.2_1', 'GCA_002208745.1_78', 'GCA_002208745.1_78', 'GCA_002208745.1_78', 'GCA_000007565.2_2', 'GCA_000281215.1_216', 'GCA_002208745.1_78', 'GCA_000006765.1_1']\n",
      "GCA_002208745.1_77 ['GCA_002208745.1_78', 'GCA_000007565.2_1', 'GCA_002208745.1_78', 'GCA_000281215.1_216', 'GCA_002208745.1_78', 'GCA_000007565.2_2', 'GCA_002208745.1_78', 'GCA_000006765.1_1']\n",
      "GCA_000007565.2_2 ['GCA_002208745.1_78']\n"
     ]
    }
   ],
   "source": [
    "key =  'GCA_002208745.1_77_GCA_002208745.1_78'\n",
    "ids = key.split(\"_\")\n",
    "id1 = \"_\".join(ids[:3])\n",
    "id2 = \"_\".join(ids[3:])\n",
    "if id2 in ids_checked:\n",
    "    if id2 in all_overlaps:\n",
    "        print(id2)\n",
    "    else:\n",
    "        for item in all_overlaps:\n",
    "            if id2 in all_overlaps[item]:\n",
    "                print(item, all_overlaps[item]) \n"
   ]
  },
  {
   "cell_type": "code",
   "execution_count": 173,
   "metadata": {},
   "outputs": [],
   "source": [
    "number_of_ids_overlapping = {}\n",
    "\n",
    "for key, value in all_overlaps.items():\n",
    "    number_of_ids_overlapping[key] = [len(value)]\n",
    "\n",
    "df = pd.DataFrame(number_of_ids_overlapping)\n",
    "df = df.T\n",
    "df.columns = ['id_count']\n",
    "\n",
    "df.index.name = 'id1'\n",
    "df.reset_index(inplace=True)"
   ]
  },
  {
   "cell_type": "code",
   "execution_count": 174,
   "metadata": {},
   "outputs": [],
   "source": [
    "df.to_csv('/Users/thomasnicholson/phd/RNASeq/srna_seqs/version_1/predicted/representative_ids.csv', index=False)"
   ]
  },
  {
   "cell_type": "code",
   "execution_count": null,
   "metadata": {},
   "outputs": [],
   "source": []
  },
  {
   "cell_type": "code",
   "execution_count": 80,
   "metadata": {},
   "outputs": [],
   "source": [
    "overlap_percentages_2 = []\n",
    "for key, value in query_counts.items():\n",
    "    overlap_percentages_2.append(value[0])"
   ]
  },
  {
   "cell_type": "code",
   "execution_count": 86,
   "metadata": {},
   "outputs": [
    {
     "data": {
      "text/plain": [
       "<seaborn.axisgrid.FacetGrid at 0x7f869bfdb668>"
      ]
     },
     "execution_count": 86,
     "metadata": {},
     "output_type": "execute_result"
    },
    {
     "data": {
      "image/png": "[encoded data removed]",
      "text/plain": [
       "<Figure size 360x360 with 1 Axes>"
      ]
     },
     "metadata": {
      "needs_background": "light"
     },
     "output_type": "display_data"
    }
   ],
   "source": [
    "sns.displot(overlap_percentages_2, binwidth = 0.01)"
   ]
  },
  {
   "cell_type": "code",
   "execution_count": 72,
   "metadata": {},
   "outputs": [
    {
     "data": {
      "text/html": [
       "<div>\n",
       "<style scoped>\n",
       "    .dataframe tbody tr th:only-of-type {\n",
       "        vertical-align: middle;\n",
       "    }\n",
       "\n",
       "    .dataframe tbody tr th {\n",
       "        vertical-align: top;\n",
       "    }\n",
       "\n",
       "    .dataframe thead th {\n",
       "        text-align: right;\n",
       "    }\n",
       "</style>\n",
       "<table border=\"1\" class=\"dataframe\">\n",
       "  <thead>\n",
       "    <tr style=\"text-align: right;\">\n",
       "      <th></th>\n",
       "      <th>id</th>\n",
       "      <th>percentage</th>\n",
       "      <th>total</th>\n",
       "      <th>count</th>\n",
       "    </tr>\n",
       "  </thead>\n",
       "  <tbody>\n",
       "    <tr>\n",
       "      <td>0</td>\n",
       "      <td>GCA_000281215.1_63_GCA_002208745.1_77</td>\n",
       "      <td>1.0000</td>\n",
       "      <td>16</td>\n",
       "      <td>16</td>\n",
       "    </tr>\n",
       "    <tr>\n",
       "      <td>1</td>\n",
       "      <td>GCA_000007565.2_2_GCA_000281215.1_63</td>\n",
       "      <td>0.4375</td>\n",
       "      <td>16</td>\n",
       "      <td>7</td>\n",
       "    </tr>\n",
       "    <tr>\n",
       "      <td>2</td>\n",
       "      <td>GCA_000017745.1_1104_GCA_000017765.1_281</td>\n",
       "      <td>0.8429</td>\n",
       "      <td>331</td>\n",
       "      <td>279</td>\n",
       "    </tr>\n",
       "    <tr>\n",
       "      <td>3</td>\n",
       "      <td>GCA_000007405.1_589_GCA_000497505.1_329</td>\n",
       "      <td>1.0000</td>\n",
       "      <td>19</td>\n",
       "      <td>19</td>\n",
       "    </tr>\n",
       "    <tr>\n",
       "      <td>4</td>\n",
       "      <td>GCA_000497505.1_329_GCA_000747565.1_531</td>\n",
       "      <td>0.7000</td>\n",
       "      <td>20</td>\n",
       "      <td>14</td>\n",
       "    </tr>\n",
       "    <tr>\n",
       "      <td>...</td>\n",
       "      <td>...</td>\n",
       "      <td>...</td>\n",
       "      <td>...</td>\n",
       "      <td>...</td>\n",
       "    </tr>\n",
       "    <tr>\n",
       "      <td>42268</td>\n",
       "      <td>GCA_000281215.1_288_GCA_000281215.1_289</td>\n",
       "      <td>1.0000</td>\n",
       "      <td>2</td>\n",
       "      <td>2</td>\n",
       "    </tr>\n",
       "    <tr>\n",
       "      <td>42269</td>\n",
       "      <td>GCA_000281215.1_289_GCA_000281215.1_301</td>\n",
       "      <td>1.0000</td>\n",
       "      <td>2</td>\n",
       "      <td>2</td>\n",
       "    </tr>\n",
       "    <tr>\n",
       "      <td>42270</td>\n",
       "      <td>GCA_000006765.1_838_GCA_900243355.1_755</td>\n",
       "      <td>1.0000</td>\n",
       "      <td>4</td>\n",
       "      <td>4</td>\n",
       "    </tr>\n",
       "    <tr>\n",
       "      <td>42271</td>\n",
       "      <td>GCA_000006765.1_841_GCA_900243355.1_774</td>\n",
       "      <td>1.0000</td>\n",
       "      <td>4</td>\n",
       "      <td>4</td>\n",
       "    </tr>\n",
       "    <tr>\n",
       "      <td>42272</td>\n",
       "      <td>GCA_002355295.1_554_GCA_002355295.1_556</td>\n",
       "      <td>1.0000</td>\n",
       "      <td>2</td>\n",
       "      <td>2</td>\n",
       "    </tr>\n",
       "  </tbody>\n",
       "</table>\n",
       "<p>42273 rows × 4 columns</p>\n",
       "</div>"
      ],
      "text/plain": [
       "                                             id  percentage  total  count\n",
       "0         GCA_000281215.1_63_GCA_002208745.1_77      1.0000     16     16\n",
       "1          GCA_000007565.2_2_GCA_000281215.1_63      0.4375     16      7\n",
       "2      GCA_000017745.1_1104_GCA_000017765.1_281      0.8429    331    279\n",
       "3       GCA_000007405.1_589_GCA_000497505.1_329      1.0000     19     19\n",
       "4       GCA_000497505.1_329_GCA_000747565.1_531      0.7000     20     14\n",
       "...                                         ...         ...    ...    ...\n",
       "42268   GCA_000281215.1_288_GCA_000281215.1_289      1.0000      2      2\n",
       "42269   GCA_000281215.1_289_GCA_000281215.1_301      1.0000      2      2\n",
       "42270   GCA_000006765.1_838_GCA_900243355.1_755      1.0000      4      4\n",
       "42271   GCA_000006765.1_841_GCA_900243355.1_774      1.0000      4      4\n",
       "42272   GCA_002355295.1_554_GCA_002355295.1_556      1.0000      2      2\n",
       "\n",
       "[42273 rows x 4 columns]"
      ]
     },
     "execution_count": 72,
     "metadata": {},
     "output_type": "execute_result"
    }
   ],
   "source": [
    "df = pd.DataFrame.from_dict(query_counts, orient='index', columns = ['percentage', 'total', 'count'])\n",
    "df.index.name = 'id'\n",
    "df.reset_index(inplace=True)\n",
    "df"
   ]
  },
  {
   "cell_type": "code",
   "execution_count": 74,
   "metadata": {},
   "outputs": [],
   "source": [
    "df.to_csv('/Users/thomasnicholson/phd/RNASeq/srna_seqs/version_1/predicted/overlap_values_3.csv', index=False)"
   ]
  },
  {
   "cell_type": "code",
   "execution_count": 27,
   "metadata": {},
   "outputs": [],
   "source": [
    "combined_d = {}\n",
    "ids_checked = []\n",
    "for query in query_ids:\n",
    "    if query not in ids_checked:\n",
    "        combined_d, ids_checked = srna.combined_alignments(query = query, combined_d = combined_d, ids_checked = ids_checked, query_matches = query_matches)\n"
   ]
  },
  {
   "cell_type": "code",
   "execution_count": 28,
   "metadata": {},
   "outputs": [],
   "source": [
    "full_list = []\n",
    "for key, value in combined_d.items():\n",
    "    for item in value:\n",
    "        full_list.append(item)\n",
    "unique_list = []\n",
    "for key, value in combined_d.items():\n",
    "    for item in value:\n",
    "        if item not in unique_list:\n",
    "            unique_list.append(item)\n",
    "        else:\n",
    "            print(item)"
   ]
  },
  {
   "cell_type": "code",
   "execution_count": 60,
   "metadata": {},
   "outputs": [],
   "source": []
  },
  {
   "cell_type": "code",
   "execution_count": 162,
   "metadata": {},
   "outputs": [
    {
     "name": "stdout",
     "output_type": "stream",
     "text": [
      "   query_id target_contig  target_start  target_end\n",
      "0        G1            N1             1         100\n",
      "1        G2            N1             1         100\n",
      "2        G3            N1             2          95\n",
      "3        G1            N2           100         180\n",
      "4        G2            N2           100         180\n",
      "5        G3            N2           100         180\n",
      "6        G1            N3           940         860\n",
      "7        G1            N3           855         935\n",
      "8        G3            N3           940         860\n",
      "9        G3            N3           855         935\n",
      "10       G2            N4          1010        1110\n",
      "11       G3            N4          1015        1120\n"
     ]
    }
   ],
   "source": [
    "test_contigs = ['N1', 'N2', 'N3', 'N4']\n",
    "test_data = {'query_id':['G1', 'G2', 'G3', 'G1', 'G2', 'G3', 'G1', 'G1', 'G3', 'G3', 'G2', 'G3'], \n",
    "             'target_contig':['N1', 'N1', 'N1', 'N2', 'N2', 'N2', 'N3', 'N3', 'N3', 'N3', 'N4', 'N4'],\n",
    "            'target_start':[1, 1, 2, 100, 100, 100, 940, 855, 940, 855, 1010, 1015],\n",
    "            'target_end':[100, 100, 95, 180, 180, 180, 860, 935, 860, 935, 1110, 1120]}\n",
    "test_dat = pd.DataFrame(test_data)\n",
    "print(test_dat)\n"
   ]
  },
  {
   "cell_type": "code",
   "execution_count": 61,
   "metadata": {},
   "outputs": [
    {
     "name": "stdout",
     "output_type": "stream",
     "text": [
      "N1\n",
      "  query_id target_contig  target_start  target_end\n",
      "0       G1            N1             1         100\n",
      "1       G2            N1             1         100\n",
      "2       G3            N1             2          95\n",
      "[[], ['G1', 'G2', 'G3']]\n",
      "N2\n",
      "  query_id target_contig  target_start  target_end\n",
      "3       G1            N2           100         180\n",
      "4       G2            N2           100         180\n",
      "5       G3            N2           100         180\n",
      "[[], ['G1', 'G2', 'G3']]\n",
      "N3\n",
      "  query_id target_contig  target_start  target_end\n",
      "6       G1            N3           940         860\n",
      "7       G1            N3           855         935\n",
      "8       G3            N3           940         860\n",
      "9       G3            N3           855         935\n",
      "[[], ['G1', 'G3']]\n",
      "N4\n",
      "   query_id target_contig  target_start  target_end\n",
      "10       G2            N4          1010        1110\n",
      "11       G3            N4          1015        1120\n",
      "[[], ['G2', 'G3']]\n"
     ]
    }
   ],
   "source": [
    "test_d = {}\n",
    "for contig in test_contigs:\n",
    "    print(contig)\n",
    "    subsetDat =  test_dat.loc[test_dat['target_contig'] == contig]\n",
    "    print(subsetDat)\n",
    "    overlap_list = get_overlap_list(subsetDat = subsetDat)\n",
    "    print(overlap_list)\n",
    "    test_d = get_overlap_count(overlap_list = overlap_list, d = test_d)"
   ]
  },
  {
   "cell_type": "code",
   "execution_count": 62,
   "metadata": {},
   "outputs": [
    {
     "data": {
      "text/plain": [
       "{'G1_G2': 2, 'G1_G3': 3, 'G2_G3': 3}"
      ]
     },
     "execution_count": 62,
     "metadata": {},
     "output_type": "execute_result"
    }
   ],
   "source": [
    "test_d"
   ]
  },
  {
   "cell_type": "code",
   "execution_count": null,
   "metadata": {},
   "outputs": [],
   "source": []
  }
 ],
 "metadata": {
  "kernelspec": {
   "display_name": "Python 3",
   "language": "python",
   "name": "python3"
  },
  "language_info": {
   "codemirror_mode": {
    "name": "ipython",
    "version": 3
   },
   "file_extension": ".py",
   "mimetype": "text/x-python",
   "name": "python",
   "nbconvert_exporter": "python",
   "pygments_lexer": "ipython3",
   "version": "3.6.8"
  }
 },
 "nbformat": 4,
 "nbformat_minor": 2
}
